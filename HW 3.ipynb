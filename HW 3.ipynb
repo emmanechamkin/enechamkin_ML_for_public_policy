{
 "cells": [
  {
   "cell_type": "code",
   "execution_count": 1,
   "metadata": {},
   "outputs": [],
   "source": [
    "from pipeline_utils import *\n",
    "import pandas as pd\n",
    "import numpy as np\n",
    "import datetime\n",
    "import re\n",
    "import collections\n",
    "import os\n",
    "import seaborn as sns\n",
    "import graphviz\n",
    "from sklearn import linear_model\n",
    "from sklearn.metrics import accuracy_score, roc_auc_score\n",
    "from sklearn import metrics\n",
    "from sklearn import tree\n",
    "from sklearn.pipeline import Pipeline\n",
    "from sklearn.preprocessing import StandardScaler\n",
    "from sklearn.model_selection import RandomizedSearchCV, train_test_split\n",
    "from sklearn import svm\n",
    "from sklearn.linear_model import LassoCV\n",
    "from sklearn.linear_model import RidgeCV\n",
    "from sklearn.metrics import accuracy_score, roc_auc_score, precision_recall_fscore_support, precision_recall_curve\n",
    "from sklearn import ensemble \n",
    "from sklearn import neighbors\n",
    "import functools\n",
    "import matplotlib.pyplot as plt\n",
    "pd.options.display.max_rows = 999\n",
    "pd.options.display.max_columns = 999\n",
    "get_ipython().magic('matplotlib inline')"
   ]
  },
  {
   "cell_type": "markdown",
   "metadata": {},
   "source": [
    "# HW 3\n",
    "The 2014 KDD Cup asks participants to help DonorsChoose.org identify projects that are exceptionally exciting to the business, at the time of posting. This notebook solves and evaluates the solution to this problem in a variety of ways. Our project goal is to predict at time of posting if the project will be fully funded. "
   ]
  },
  {
   "cell_type": "markdown",
   "metadata": {},
   "source": [
    "## Step 0: Defining constants for the notebook"
   ]
  },
  {
   "cell_type": "code",
   "execution_count": 2,
   "metadata": {
    "collapsed": true
   },
   "outputs": [],
   "source": [
    "Y_PRED_VAR = 'fully_funded'"
   ]
  },
  {
   "cell_type": "code",
   "execution_count": 3,
   "metadata": {
    "collapsed": true
   },
   "outputs": [],
   "source": [
    "HYPERPARAM_TUNING = {\n",
    "    'random_forest': {'max_features': ['auto', 'sqrt'],\n",
    "               'max_depth': [10, 100, None],\n",
    "               'min_samples_split': [2, 5, 10],\n",
    "               'min_samples_leaf': [1, 2, 4]},\n",
    "    'svm': {'C': [1.0, 1.5, 2.0],\n",
    "           'kernel': ['linear', 'poly']},\n",
    "    'knn': {'n_neighbors': [2, 5, 7, 9]},\n",
    "    'decision_tree': {'max_features': ['auto', 'sqrt'],\n",
    "               'max_depth': [10, 100, None],\n",
    "               'min_samples_split': [2, 5, 10],\n",
    "               'min_samples_leaf': [1, 2, 4]},\n",
    "    'boosting': {'n_estimators': [50, 30, 10],\n",
    "                'learning_rate': [0.5, 1, 1.5]}, \n",
    "    'bagging': {'n_estimators': [5, 10, 15], \n",
    "               'max_samples': [0.2, 0.6, 1.0],\n",
    "               'max_features': [0.2, 0.6, 1.0]}\n",
    "         }"
   ]
  },
  {
   "cell_type": "code",
   "execution_count": 4,
   "metadata": {},
   "outputs": [],
   "source": [
    "SKLEARN_BASE_MODELS = {\n",
    "    'logistic_regression': linear_model.LogisticRegressionCV(), \n",
    "    'knn': neighbors.KNeighborsClassifier(),\n",
    "    'decision_tree': tree.DecisionTreeClassifier(), \n",
    "    'random_forest': ensemble.RandomForestClassifier(), \n",
    "    'svm': svm.SVC(), \n",
    "    'boosting': ensemble.AdaBoostClassifier(),\n",
    "    'bagging': ensemble.BaggingClassifier()\n",
    "}    "
   ]
  },
  {
   "cell_type": "code",
   "execution_count": 5,
   "metadata": {
    "collapsed": true
   },
   "outputs": [],
   "source": [
    "EVALUATION_METHODS = ['accuracy', 'f1', 'roc_auc', 'precision', 'recall'] \n",
    "THRESHOLDS_TO_TEST = [0.01, 0.02, 0.05, 0.10, 0.20, 0.30, 0.50]\n",
    "CLF_TO_CREATE = ['logistic_regression', 'svm','bagging', 'boosting', 'decision_tree', 'random_forest',  'knn']"
   ]
  },
  {
   "cell_type": "code",
   "execution_count": 6,
   "metadata": {},
   "outputs": [],
   "source": [
    "STARTDATE = datetime.datetime.strptime('2011-01-01', '%Y-%m-%d')\n",
    "ENDDATE = datetime.datetime.strptime('2013-12-31', '%Y-%m-%d')"
   ]
  },
  {
   "cell_type": "markdown",
   "metadata": {},
   "source": [
    "## Step 1: Read in the data"
   ]
  },
  {
   "cell_type": "code",
   "execution_count": 7,
   "metadata": {},
   "outputs": [],
   "source": [
    "outcomes = read_data('./outcomes.csv')\n",
    "projects = read_data('./projects.csv')"
   ]
  },
  {
   "cell_type": "markdown",
   "metadata": {},
   "source": [
    "### Filter out data that is not in our desired year range (2011 - 2013) using a boolean mask"
   ]
  },
  {
   "cell_type": "code",
   "execution_count": 8,
   "metadata": {
    "collapsed": true
   },
   "outputs": [],
   "source": [
    "projects['date_posted'] = pd.to_datetime(projects['date_posted'])\n",
    "mask = (projects['date_posted'] >= STARTDATE) & (projects['date_posted'] <= ENDDATE)\n",
    "projects = projects.loc[mask]"
   ]
  },
  {
   "cell_type": "markdown",
   "metadata": {},
   "source": [
    "### Join the data"
   ]
  },
  {
   "cell_type": "code",
   "execution_count": 9,
   "metadata": {},
   "outputs": [],
   "source": [
    "combined_df = projects.set_index('projectid').join(\n",
    "    outcomes.set_index('projectid')).reset_index()"
   ]
  },
  {
   "cell_type": "markdown",
   "metadata": {},
   "source": [
    "### Identify primary columns and remove extra IDs that won't be predictive and information that won't be available at time of project "
   ]
  },
  {
   "cell_type": "code",
   "execution_count": 10,
   "metadata": {
    "collapsed": true
   },
   "outputs": [],
   "source": [
    "combined_df_explor = combined_df[['projectid','school_latitude', 'school_longitude', \n",
    "       'school_city', 'school_state',\n",
    "       'school_zip', 'school_metro', 'school_district', 'school_county',\n",
    "       'school_charter', 'school_magnet', 'school_year_round', 'school_nlns',\n",
    "       'school_kipp', 'school_charter_ready_promise', 'teacher_prefix',\n",
    "       'teacher_teach_for_america', 'teacher_ny_teaching_fellow',\n",
    "       'primary_focus_subject', 'primary_focus_area',\n",
    "       'secondary_focus_subject', 'secondary_focus_area', 'resource_type',\n",
    "       'poverty_level', 'grade_level', 'fulfillment_labor_materials',\n",
    "       'total_price_excluding_optional_support',\n",
    "       'total_price_including_optional_support', 'students_reached',\n",
    "       'eligible_double_your_impact_match', 'eligible_almost_home_match',\n",
    "       'date_posted', 'fully_funded']]"
   ]
  },
  {
   "cell_type": "markdown",
   "metadata": {},
   "source": [
    "## Step 2: Conduct preliminary data analysis\n",
    "- Retain the dataset that was explored for reference\n",
    "- I opted to keep describe rather than histograms, with the option of adding histograms. I had to restart my notebook a bunch, and the histograms took a crazy amount of memory up."
   ]
  },
  {
   "cell_type": "code",
   "execution_count": 11,
   "metadata": {
    "scrolled": false
   },
   "outputs": [
    {
     "name": "stdout",
     "output_type": "stream",
     "text": [
      "Warning: assumes first column is a unique identifier for the df, like an ID. Does not calculate all stats for the first column.\n",
      "\n",
      "\n",
      "Distributions for  school_latitude\n",
      "count    353151.000000\n",
      "mean         36.868563\n",
      "std           4.927417\n",
      "min          18.249140\n",
      "25%          33.916387\n",
      "50%          36.675826\n",
      "75%          40.680488\n",
      "max          67.258157\n",
      "Name: school_latitude, dtype: float64\n",
      "\n",
      "\n",
      "\n",
      "Distributions for  school_longitude\n",
      "count    353151.000000\n",
      "mean        -95.398318\n",
      "std          18.118360\n",
      "min        -171.690554\n",
      "25%        -117.246823\n",
      "50%         -89.886438\n",
      "75%         -80.761902\n",
      "max         -66.628036\n",
      "Name: school_longitude, dtype: float64\n",
      "\n",
      "\n",
      "\n",
      "Distributions for  school_city\n",
      "count          353151\n",
      "unique           7724\n",
      "top       Los Angeles\n",
      "freq            15444\n",
      "Name: school_city, dtype: object\n",
      "\n",
      "\n",
      "\n",
      "Distributions for  school_state\n",
      "count     353151\n",
      "unique        51\n",
      "top           CA\n",
      "freq       77915\n",
      "Name: school_state, dtype: object\n",
      "\n",
      "\n",
      "\n",
      "Distributions for  school_zip\n",
      "count    353151.000000\n",
      "mean      56301.763713\n",
      "std       31043.523511\n",
      "min         410.000000\n",
      "25%       29388.000000\n",
      "50%       60613.000000\n",
      "75%       90007.000000\n",
      "max       99926.000000\n",
      "Name: school_zip, dtype: float64\n",
      "\n",
      "\n",
      "\n",
      "Distributions for  school_metro\n",
      "count     310130\n",
      "unique         3\n",
      "top        urban\n",
      "freq      178344\n",
      "Name: school_metro, dtype: object\n",
      "\n",
      "\n",
      "\n",
      "Distributions for  school_district\n",
      "count                        352722\n",
      "unique                         7890\n",
      "top       Los Angeles Unif Sch Dist\n",
      "freq                          29305\n",
      "Name: school_district, dtype: object\n",
      "\n",
      "\n",
      "\n",
      "Distributions for  school_county\n",
      "count          353151\n",
      "unique           1618\n",
      "top       Los Angeles\n",
      "freq            35285\n",
      "Name: school_county, dtype: object\n",
      "\n",
      "\n",
      "\n",
      "Distributions for  school_charter\n",
      "count     353151\n",
      "unique         2\n",
      "top            f\n",
      "freq      319798\n",
      "Name: school_charter, dtype: object\n",
      "\n",
      "\n",
      "\n",
      "Distributions for  school_magnet\n",
      "count     353151\n",
      "unique         2\n",
      "top            f\n",
      "freq      323113\n",
      "Name: school_magnet, dtype: object\n",
      "\n",
      "\n",
      "\n",
      "Distributions for  school_year_round\n",
      "count     353151\n",
      "unique         2\n",
      "top            f\n",
      "freq      335819\n",
      "Name: school_year_round, dtype: object\n",
      "\n",
      "\n",
      "\n",
      "Distributions for  school_nlns\n",
      "count     353151\n",
      "unique         2\n",
      "top            f\n",
      "freq      348988\n",
      "Name: school_nlns, dtype: object\n",
      "\n",
      "\n",
      "\n",
      "Distributions for  school_kipp\n",
      "count     353151\n",
      "unique         2\n",
      "top            f\n",
      "freq      350807\n",
      "Name: school_kipp, dtype: object\n",
      "\n",
      "\n",
      "\n",
      "Distributions for  school_charter_ready_promise\n",
      "count     353151\n",
      "unique         2\n",
      "top            f\n",
      "freq      350991\n",
      "Name: school_charter_ready_promise, dtype: object\n",
      "\n",
      "\n",
      "\n",
      "Distributions for  teacher_prefix\n",
      "count     353151\n",
      "unique         4\n",
      "top         Mrs.\n",
      "freq      171005\n",
      "Name: teacher_prefix, dtype: object\n",
      "\n",
      "\n",
      "\n",
      "Distributions for  teacher_teach_for_america\n",
      "count     353151\n",
      "unique         2\n",
      "top            f\n",
      "freq      335816\n",
      "Name: teacher_teach_for_america, dtype: object\n",
      "\n",
      "\n",
      "\n",
      "Distributions for  teacher_ny_teaching_fellow\n",
      "count     353151\n",
      "unique         2\n",
      "top            f\n",
      "freq      349545\n",
      "Name: teacher_ny_teaching_fellow, dtype: object\n",
      "\n",
      "\n",
      "\n",
      "Distributions for  primary_focus_subject\n",
      "count       353116\n",
      "unique          27\n",
      "top       Literacy\n",
      "freq        108723\n",
      "Name: primary_focus_subject, dtype: object\n",
      "\n",
      "\n",
      "\n",
      "Distributions for  primary_focus_area\n",
      "count                  353116\n",
      "unique                      7\n",
      "top       Literacy & Language\n",
      "freq                   161977\n",
      "Name: primary_focus_area, dtype: object\n",
      "\n",
      "\n",
      "\n",
      "Distributions for  secondary_focus_subject\n",
      "count                   237065\n",
      "unique                      27\n",
      "top       Literature & Writing\n",
      "freq                     35205\n",
      "Name: secondary_focus_subject, dtype: object\n",
      "\n",
      "\n",
      "\n",
      "Distributions for  secondary_focus_area\n",
      "count                  237065\n",
      "unique                      7\n",
      "top       Literacy & Language\n",
      "freq                    85484\n",
      "Name: secondary_focus_area, dtype: object\n",
      "\n",
      "\n",
      "\n",
      "Distributions for  resource_type\n",
      "count         353109\n",
      "unique             6\n",
      "top       Technology\n",
      "freq          124485\n",
      "Name: resource_type, dtype: object\n",
      "\n",
      "\n",
      "\n",
      "Distributions for  poverty_level\n",
      "count              353151\n",
      "unique                  4\n",
      "top       highest poverty\n",
      "freq               193518\n",
      "Name: poverty_level, dtype: object\n",
      "\n",
      "\n",
      "\n",
      "Distributions for  grade_level\n",
      "count            353145\n",
      "unique                4\n",
      "top       Grades PreK-2\n",
      "freq             134998\n",
      "Name: grade_level, dtype: object\n",
      "\n",
      "\n",
      "\n",
      "Distributions for  fulfillment_labor_materials\n",
      "count    353151.000000\n",
      "mean         32.220311\n",
      "std           2.484309\n",
      "min          30.000000\n",
      "25%          30.000000\n",
      "50%          30.000000\n",
      "75%          35.000000\n",
      "max          35.000000\n",
      "Name: fulfillment_labor_materials, dtype: float64\n",
      "\n",
      "\n",
      "\n",
      "Distributions for  total_price_excluding_optional_support\n",
      "count    353151.000000\n",
      "mean        531.372372\n",
      "std         844.069364\n",
      "min          37.030000\n",
      "25%         288.750000\n",
      "50%         427.270000\n",
      "75%         606.720000\n",
      "max      139725.410000\n",
      "Name: total_price_excluding_optional_support, dtype: float64\n",
      "\n",
      "\n",
      "\n",
      "Distributions for  total_price_including_optional_support\n",
      "count    353151.000000\n",
      "mean        625.143964\n",
      "std         993.022780\n",
      "min          43.560000\n",
      "25%         339.710000\n",
      "50%         502.670000\n",
      "75%         713.790000\n",
      "max      164382.840000\n",
      "Name: total_price_including_optional_support, dtype: float64\n",
      "\n",
      "\n",
      "\n",
      "Distributions for  students_reached\n",
      "count    353050.000000\n",
      "mean         94.187169\n",
      "std         156.987405\n",
      "min           1.000000\n",
      "25%          23.000000\n",
      "50%          31.000000\n",
      "75%         100.000000\n",
      "max       12143.000000\n",
      "Name: students_reached, dtype: float64\n",
      "\n",
      "\n",
      "\n",
      "Distributions for  eligible_double_your_impact_match\n",
      "count     353151\n",
      "unique         2\n",
      "top            f\n",
      "freq      241193\n",
      "Name: eligible_double_your_impact_match, dtype: object\n",
      "\n",
      "\n",
      "\n",
      "Distributions for  eligible_almost_home_match\n",
      "count     353151\n",
      "unique         2\n",
      "top            f\n",
      "freq      337514\n",
      "Name: eligible_almost_home_match, dtype: object\n",
      "\n",
      "\n",
      "\n",
      "Distributions for  date_posted\n",
      "count                  353151\n",
      "unique                   1096\n",
      "top       2012-09-30 00:00:00\n",
      "freq                     1490\n",
      "first     2011-01-01 00:00:00\n",
      "last      2013-12-31 00:00:00\n",
      "Name: date_posted, dtype: object\n",
      "\n",
      "\n",
      "\n",
      "Distributions for  fully_funded\n",
      "count     353151\n",
      "unique         2\n",
      "top            t\n",
      "freq      247698\n",
      "Name: fully_funded, dtype: object\n",
      "\n",
      "\n",
      "\n"
     ]
    },
    {
     "data": {
      "image/png": "[encoded data removed]",
      "text/plain": [
       "<matplotlib.figure.Figure at 0x1a248c7518>"
      ]
     },
     "metadata": {},
     "output_type": "display_data"
    }
   ],
   "source": [
    "outlier_dict = data_summary_stats(df=combined_df_explor, zparam=2, outlier_threshold=1,\n",
    "                                  hist_draw=False, ptitle=\"donors choose correlation\")"
   ]
  },
  {
   "cell_type": "markdown",
   "metadata": {},
   "source": [
    "## Step 3: Clean up the dataset\n",
    "- Replace values (t, f) with (1, 0)\n",
    "- Create categorical dummies for any variable with <100 potential options\n",
    "- Fill numerical missing values with the median (typically 0 for boolean)\n",
    "- Fill remaining missing values with 0\n",
    "- Copy the final dataset into a final dataset\n",
    "- For the purposes of this exercise, outliers were retained (none seemed too extreme) and all missing values were imputed similarly (although the functionality to impute specific columns exists)"
   ]
  },
  {
   "cell_type": "markdown",
   "metadata": {},
   "source": [
    "### Replace t and f with 1 and 0, respectively"
   ]
  },
  {
   "cell_type": "code",
   "execution_count": 12,
   "metadata": {
    "collapsed": true
   },
   "outputs": [],
   "source": [
    "combined_df_filled = combined_df_explor.copy()\n",
    "for col in combined_df_filled.columns:\n",
    "    combined_df_filled[col].replace('f',0, inplace=True)\n",
    "    combined_df_filled[col].replace('t',1, inplace=True)"
   ]
  },
  {
   "cell_type": "markdown",
   "metadata": {},
   "source": [
    "### Make dummies for any categorical with <100 options"
   ]
  },
  {
   "cell_type": "code",
   "execution_count": 13,
   "metadata": {
    "collapsed": true
   },
   "outputs": [],
   "source": [
    "for col in combined_df_filled.columns:\n",
    "    if combined_df_filled[col].dtype == 'object' and len(combined_df_filled[col].unique()) <= 100:\n",
    "        combined_df_filled = make_categorical_dummy(df=combined_df_filled, cat=col)"
   ]
  },
  {
   "cell_type": "markdown",
   "metadata": {},
   "source": [
    "### Impute all columns of missing data with the mean"
   ]
  },
  {
   "cell_type": "code",
   "execution_count": 14,
   "metadata": {
    "collapsed": true
   },
   "outputs": [],
   "source": [
    "combined_df_filled = fill_values(df=combined_df_filled, fill_missing_method='median')\n",
    "combined_df_filled.fillna(0, inplace=True)"
   ]
  },
  {
   "cell_type": "code",
   "execution_count": 15,
   "metadata": {
    "collapsed": true
   },
   "outputs": [],
   "source": [
    "combined_df_final = combined_df_filled.copy()"
   ]
  },
  {
   "cell_type": "markdown",
   "metadata": {},
   "source": [
    "## Step 4: Feature generation\n",
    "To narrow down features:\n",
    "- Ridge regression (cross validated so there is no need for hyper-parameter tuning)\n",
    "- Lasso regression (cross validated so there is no need for hyper-parameter tuning)\n",
    "- Random Forest Classification (default parameters used)\n",
    "- Keep the intersection of features retained in all three sets"
   ]
  },
  {
   "cell_type": "markdown",
   "metadata": {},
   "source": [
    "### Random forest features: retained if importance > 0"
   ]
  },
  {
   "cell_type": "code",
   "execution_count": 16,
   "metadata": {},
   "outputs": [],
   "source": [
    "rf_feature_list = rf_features(df=combined_df_final, var_excl=['object', 'datetime64[ns]'], \n",
    "                              y_pred=Y_PRED_VAR, n_jobs=10, random_state=0)\n",
    "\n",
    "rf_feature_names = [x for (x,y) in rf_feature_list]"
   ]
  },
  {
   "cell_type": "markdown",
   "metadata": {},
   "source": [
    "### Lasso CV features: retained if coeff != 0 \n",
    "- convergence error is an artifact of the data."
   ]
  },
  {
   "cell_type": "code",
   "execution_count": 17,
   "metadata": {},
   "outputs": [
    {
     "name": "stderr",
     "output_type": "stream",
     "text": [
      "/Users/emmanechamkin/anaconda3/lib/python3.6/site-packages/sklearn/linear_model/coordinate_descent.py:491: ConvergenceWarning: Objective did not converge. You might want to increase the number of iterations. Fitting data with very small alpha may cause precision problems.\n",
      "  ConvergenceWarning)\n"
     ]
    }
   ],
   "source": [
    "lcv_feature_list = lcv_features(df=combined_df_final, y_pred=Y_PRED_VAR, \n",
    "                                var_excl=['object', 'datetime64[ns]'], features=None)\n",
    "\n",
    "lcv_feature_names = [x for (x,y) in lcv_feature_list]"
   ]
  },
  {
   "cell_type": "markdown",
   "metadata": {},
   "source": [
    "### Ridge CV features: retained if coeff != 0 "
   ]
  },
  {
   "cell_type": "code",
   "execution_count": 18,
   "metadata": {
    "collapsed": true
   },
   "outputs": [],
   "source": [
    "rcv_feature_list = rcv_features(df=combined_df_final, y_pred=Y_PRED_VAR, \n",
    "                                var_excl=['object', 'datetime64[ns]'], features=None)\n",
    "\n",
    "rcv_feature_names = [x for (x,y) in rcv_feature_list]"
   ]
  },
  {
   "cell_type": "markdown",
   "metadata": {},
   "source": [
    "### Determine intersection of features for the regression"
   ]
  },
  {
   "cell_type": "code",
   "execution_count": 19,
   "metadata": {},
   "outputs": [],
   "source": [
    "all_features_retain = set(rf_feature_names).intersection(lcv_feature_names).intersection(rcv_feature_names)"
   ]
  },
  {
   "cell_type": "code",
   "execution_count": 20,
   "metadata": {},
   "outputs": [
    {
     "name": "stdout",
     "output_type": "stream",
     "text": [
      "{'school_charter', 'school_stateNY', 'school_stateUT', 'school_stateWI', 'school_stateIL', 'fulfillment_labor_materials', 'grade_levelGrades 6-8', 'primary_focus_subjectMusic', 'primary_focus_subjectHealth & Life Science', 'teacher_ny_teaching_fellow', 'resource_typeBooks', 'school_stateNH', 'secondary_focus_areaApplied Learning', 'school_stateSC', 'secondary_focus_subjectEnvironmental Science', 'school_charter_ready_promise', 'school_stateWA', 'eligible_almost_home_match', 'primary_focus_subjectEconomics', 'school_stateMD', 'primary_focus_subjectApplied Sciences', 'school_stateTN', 'school_metrorural', 'school_stateIA', 'primary_focus_subjectOther', 'school_stateNC', 'poverty_levelhighest poverty', 'school_stateGA', 'grade_levelGrades PreK-2', 'school_nlns', 'primary_focus_subjectLiterature & Writing', 'teacher_teach_for_america', 'primary_focus_subjectEnvironmental Science', 'school_latitude', 'school_stateNJ', 'resource_typeOther', 'school_stateCT', 'school_stateCO', 'teacher_prefixMrs.', 'primary_focus_areaLiteracy & Language', 'resource_typeTechnology', 'school_stateMN', 'poverty_levellow poverty', 'secondary_focus_areaMath & Science', 'school_stateMT', 'secondary_focus_subjectNutrition', 'school_stateID', 'school_stateNM', 'primary_focus_areaMusic & The Arts', 'school_stateMI', 'poverty_levelhigh poverty', 'school_stateMA', 'secondary_focus_areaMusic & The Arts', 'school_metrosuburban', 'school_year_round', 'school_stateAR', 'school_stateNV', 'school_metrourban', 'primary_focus_subjectGym & Fitness', 'school_stateLA', 'school_stateAZ', 'school_stateKS', 'eligible_double_your_impact_match', 'school_stateHI', 'school_stateNE', 'school_stateDE', 'students_reached', 'secondary_focus_subjectOther', 'school_stateOH', 'secondary_focus_subjectMusic', 'school_stateDC', 'primary_focus_subjectParent Involvement', 'school_stateCA', 'secondary_focus_areaLiteracy & Language', 'primary_focus_areaMath & Science', 'primary_focus_subjectNutrition', 'primary_focus_subjectEarly Development', 'resource_typeTrips', 'total_price_excluding_optional_support'} "
     ]
    }
   ],
   "source": [
    "print(all_features_retain, end = \" \")"
   ]
  },
  {
   "cell_type": "markdown",
   "metadata": {},
   "source": [
    "## Step 5: Hyperparameter tuning\n",
    "- on one test-train split of the data, find the optimal hyperparameters by using a randomized search\n",
    "- although this model is not tested, having a test-train split will enable future functionality of the tuned models (e.g., if I wanted to, I could get testing results as well). \n",
    "- I ran hyperparameter tuning with 5 folds and 2 iterations, largely because my kernel crashed and I wanted to get this done quickly :) ideally, I would run it on 5 folds and 30 or more iterations. "
   ]
  },
  {
   "cell_type": "markdown",
   "metadata": {},
   "source": [
    "### Get hyperparameters"
   ]
  },
  {
   "cell_type": "code",
   "execution_count": 22,
   "metadata": {
    "scrolled": false
   },
   "outputs": [
    {
     "name": "stdout",
     "output_type": "stream",
     "text": [
      "Fitting 5 folds for each of 2 candidates, totalling 10 fits\n",
      "[CV] min_samples_split=10, min_samples_leaf=4, max_features=sqrt, max_depth=None \n",
      "[CV]  min_samples_split=10, min_samples_leaf=4, max_features=sqrt, max_depth=None, total=   4.3s\n",
      "[CV] min_samples_split=10, min_samples_leaf=4, max_features=sqrt, max_depth=None \n"
     ]
    },
    {
     "name": "stderr",
     "output_type": "stream",
     "text": [
      "[Parallel(n_jobs=1)]: Done   1 out of   1 | elapsed:    4.9s remaining:    0.0s\n"
     ]
    },
    {
     "name": "stdout",
     "output_type": "stream",
     "text": [
      "[CV]  min_samples_split=10, min_samples_leaf=4, max_features=sqrt, max_depth=None, total=   4.6s\n",
      "[CV] min_samples_split=10, min_samples_leaf=4, max_features=sqrt, max_depth=None \n",
      "[CV]  min_samples_split=10, min_samples_leaf=4, max_features=sqrt, max_depth=None, total=   4.2s\n",
      "[CV] min_samples_split=10, min_samples_leaf=4, max_features=sqrt, max_depth=None \n",
      "[CV]  min_samples_split=10, min_samples_leaf=4, max_features=sqrt, max_depth=None, total=   4.0s\n",
      "[CV] min_samples_split=10, min_samples_leaf=4, max_features=sqrt, max_depth=None \n",
      "[CV]  min_samples_split=10, min_samples_leaf=4, max_features=sqrt, max_depth=None, total=   4.1s\n",
      "[CV] min_samples_split=2, min_samples_leaf=4, max_features=sqrt, max_depth=100 \n",
      "[CV]  min_samples_split=2, min_samples_leaf=4, max_features=sqrt, max_depth=100, total=   4.1s\n",
      "[CV] min_samples_split=2, min_samples_leaf=4, max_features=sqrt, max_depth=100 \n",
      "[CV]  min_samples_split=2, min_samples_leaf=4, max_features=sqrt, max_depth=100, total=   4.0s\n",
      "[CV] min_samples_split=2, min_samples_leaf=4, max_features=sqrt, max_depth=100 \n",
      "[CV]  min_samples_split=2, min_samples_leaf=4, max_features=sqrt, max_depth=100, total=   4.1s\n",
      "[CV] min_samples_split=2, min_samples_leaf=4, max_features=sqrt, max_depth=100 \n",
      "[CV]  min_samples_split=2, min_samples_leaf=4, max_features=sqrt, max_depth=100, total=   4.2s\n",
      "[CV] min_samples_split=2, min_samples_leaf=4, max_features=sqrt, max_depth=100 \n",
      "[CV]  min_samples_split=2, min_samples_leaf=4, max_features=sqrt, max_depth=100, total=   4.2s\n"
     ]
    },
    {
     "name": "stderr",
     "output_type": "stream",
     "text": [
      "[Parallel(n_jobs=1)]: Done  10 out of  10 | elapsed:   47.0s finished\n"
     ]
    },
    {
     "name": "stdout",
     "output_type": "stream",
     "text": [
      "Fitting 5 folds for each of 2 candidates, totalling 10 fits\n",
      "[CV] min_samples_split=10, min_samples_leaf=4, max_features=sqrt, max_depth=None \n",
      "[CV]  min_samples_split=10, min_samples_leaf=4, max_features=sqrt, max_depth=None, total=   1.0s\n",
      "[CV] min_samples_split=10, min_samples_leaf=4, max_features=sqrt, max_depth=None \n"
     ]
    },
    {
     "name": "stderr",
     "output_type": "stream",
     "text": [
      "[Parallel(n_jobs=1)]: Done   1 out of   1 | elapsed:    1.2s remaining:    0.0s\n"
     ]
    },
    {
     "name": "stdout",
     "output_type": "stream",
     "text": [
      "[CV]  min_samples_split=10, min_samples_leaf=4, max_features=sqrt, max_depth=None, total=   1.0s\n",
      "[CV] min_samples_split=10, min_samples_leaf=4, max_features=sqrt, max_depth=None \n",
      "[CV]  min_samples_split=10, min_samples_leaf=4, max_features=sqrt, max_depth=None, total=   1.0s\n",
      "[CV] min_samples_split=10, min_samples_leaf=4, max_features=sqrt, max_depth=None \n",
      "[CV]  min_samples_split=10, min_samples_leaf=4, max_features=sqrt, max_depth=None, total=   1.0s\n",
      "[CV] min_samples_split=10, min_samples_leaf=4, max_features=sqrt, max_depth=None \n",
      "[CV]  min_samples_split=10, min_samples_leaf=4, max_features=sqrt, max_depth=None, total=   0.9s\n",
      "[CV] min_samples_split=2, min_samples_leaf=4, max_features=sqrt, max_depth=100 \n",
      "[CV]  min_samples_split=2, min_samples_leaf=4, max_features=sqrt, max_depth=100, total=   1.0s\n",
      "[CV] min_samples_split=2, min_samples_leaf=4, max_features=sqrt, max_depth=100 \n",
      "[CV]  min_samples_split=2, min_samples_leaf=4, max_features=sqrt, max_depth=100, total=   0.9s\n",
      "[CV] min_samples_split=2, min_samples_leaf=4, max_features=sqrt, max_depth=100 \n",
      "[CV]  min_samples_split=2, min_samples_leaf=4, max_features=sqrt, max_depth=100, total=   1.0s\n",
      "[CV] min_samples_split=2, min_samples_leaf=4, max_features=sqrt, max_depth=100 \n",
      "[CV]  min_samples_split=2, min_samples_leaf=4, max_features=sqrt, max_depth=100, total=   1.0s\n",
      "[CV] min_samples_split=2, min_samples_leaf=4, max_features=sqrt, max_depth=100 \n",
      "[CV]  min_samples_split=2, min_samples_leaf=4, max_features=sqrt, max_depth=100, total=   0.9s\n"
     ]
    },
    {
     "name": "stderr",
     "output_type": "stream",
     "text": [
      "[Parallel(n_jobs=1)]: Done  10 out of  10 | elapsed:   11.1s finished\n"
     ]
    },
    {
     "name": "stdout",
     "output_type": "stream",
     "text": [
      "Fitting 5 folds for each of 2 candidates, totalling 10 fits\n",
      "[CV] n_estimators=30, learning_rate=1.5 ..............................\n",
      "[CV] ............... n_estimators=30, learning_rate=1.5, total=  13.8s\n",
      "[CV] n_estimators=30, learning_rate=1.5 ..............................\n"
     ]
    },
    {
     "name": "stderr",
     "output_type": "stream",
     "text": [
      "[Parallel(n_jobs=1)]: Done   1 out of   1 | elapsed:   14.5s remaining:    0.0s\n"
     ]
    },
    {
     "name": "stdout",
     "output_type": "stream",
     "text": [
      "[CV] ............... n_estimators=30, learning_rate=1.5, total=  13.8s\n",
      "[CV] n_estimators=30, learning_rate=1.5 ..............................\n",
      "[CV] ............... n_estimators=30, learning_rate=1.5, total=  12.6s\n",
      "[CV] n_estimators=30, learning_rate=1.5 ..............................\n",
      "[CV] ............... n_estimators=30, learning_rate=1.5, total=  13.8s\n",
      "[CV] n_estimators=30, learning_rate=1.5 ..............................\n",
      "[CV] ............... n_estimators=30, learning_rate=1.5, total=  13.7s\n",
      "[CV] n_estimators=10, learning_rate=0.5 ..............................\n",
      "[CV] ............... n_estimators=10, learning_rate=0.5, total=   4.9s\n",
      "[CV] n_estimators=10, learning_rate=0.5 ..............................\n",
      "[CV] ............... n_estimators=10, learning_rate=0.5, total=   4.8s\n",
      "[CV] n_estimators=10, learning_rate=0.5 ..............................\n",
      "[CV] ............... n_estimators=10, learning_rate=0.5, total=   4.9s\n",
      "[CV] n_estimators=10, learning_rate=0.5 ..............................\n",
      "[CV] ............... n_estimators=10, learning_rate=0.5, total=   4.8s\n",
      "[CV] n_estimators=10, learning_rate=0.5 ..............................\n",
      "[CV] ............... n_estimators=10, learning_rate=0.5, total=   4.8s\n"
     ]
    },
    {
     "name": "stderr",
     "output_type": "stream",
     "text": [
      "[Parallel(n_jobs=1)]: Done  10 out of  10 | elapsed:  1.6min finished\n"
     ]
    },
    {
     "name": "stdout",
     "output_type": "stream",
     "text": [
      "Fitting 5 folds for each of 2 candidates, totalling 10 fits\n",
      "[CV] n_estimators=15, max_samples=0.2, max_features=0.2 ..............\n",
      "[CV]  n_estimators=15, max_samples=0.2, max_features=0.2, total=   2.8s\n",
      "[CV] n_estimators=15, max_samples=0.2, max_features=0.2 ..............\n"
     ]
    },
    {
     "name": "stderr",
     "output_type": "stream",
     "text": [
      "[Parallel(n_jobs=1)]: Done   1 out of   1 | elapsed:    4.3s remaining:    0.0s\n"
     ]
    },
    {
     "name": "stdout",
     "output_type": "stream",
     "text": [
      "[CV]  n_estimators=15, max_samples=0.2, max_features=0.2, total=   3.1s\n",
      "[CV] n_estimators=15, max_samples=0.2, max_features=0.2 ..............\n",
      "[CV]  n_estimators=15, max_samples=0.2, max_features=0.2, total=   3.5s\n",
      "[CV] n_estimators=15, max_samples=0.2, max_features=0.2 ..............\n",
      "[CV]  n_estimators=15, max_samples=0.2, max_features=0.2, total=   3.1s\n",
      "[CV] n_estimators=15, max_samples=0.2, max_features=0.2 ..............\n",
      "[CV]  n_estimators=15, max_samples=0.2, max_features=0.2, total=   2.9s\n",
      "[CV] n_estimators=5, max_samples=1.0, max_features=1.0 ...............\n",
      "[CV]  n_estimators=5, max_samples=1.0, max_features=1.0, total=  14.6s\n",
      "[CV] n_estimators=5, max_samples=1.0, max_features=1.0 ...............\n",
      "[CV]  n_estimators=5, max_samples=1.0, max_features=1.0, total=  11.2s\n",
      "[CV] n_estimators=5, max_samples=1.0, max_features=1.0 ...............\n",
      "[CV]  n_estimators=5, max_samples=1.0, max_features=1.0, total=  11.2s\n",
      "[CV] n_estimators=5, max_samples=1.0, max_features=1.0 ...............\n",
      "[CV]  n_estimators=5, max_samples=1.0, max_features=1.0, total=  14.5s\n",
      "[CV] n_estimators=5, max_samples=1.0, max_features=1.0 ...............\n",
      "[CV]  n_estimators=5, max_samples=1.0, max_features=1.0, total=  14.5s\n"
     ]
    },
    {
     "name": "stderr",
     "output_type": "stream",
     "text": [
      "[Parallel(n_jobs=1)]: Done  10 out of  10 | elapsed:  1.7min finished\n"
     ]
    }
   ],
   "source": [
    "# I am not tuning all of the hyperparameters because knn and svm are extremely slow. \n",
    "# I did play with them manually in scratch.  \n",
    "tuning_list = ['random_forest', 'decision_tree', 'boosting', 'bagging']\n",
    "desired_metric = 'roc_auc'\n",
    "final_params = get_hyper_params(df=combined_df_final, feature_list=list(all_features_retain), y_column=Y_PRED_VAR, \n",
    "                                base_models_dict=SKLEARN_BASE_MODELS, random_state=0, \n",
    "                                model_list=tuning_list, scoring_mech=desired_metric, \n",
    "                                hyperparam_tuning_dict=HYPERPARAM_TUNING, cv=5, n_iter=2)"
   ]
  },
  {
   "cell_type": "markdown",
   "metadata": {},
   "source": [
    "## Step 6: Generating testing and training time series sets and then conducting modeling\n",
    "- note, a time period of 12M was used because this was taking forever to run... 6M is better and will be used for analysis\n",
    "- no buffer time zone was used - this data does not have longer term impact that might bleed from testing into training"
   ]
  },
  {
   "cell_type": "code",
   "execution_count": 23,
   "metadata": {
    "collapsed": true
   },
   "outputs": [],
   "source": [
    "series_start = combined_df_final.date_posted.min()\n",
    "series_end = combined_df_final.date_posted.max()\n",
    "\n",
    "time_starts = generate_time_points(series_start=series_start, series_end=series_end, period='12M')\n",
    "time_dfs = wrap_single_split(df=combined_df_final, time_col='date_posted', times=time_starts)"
   ]
  },
  {
   "cell_type": "markdown",
   "metadata": {},
   "source": [
    "### build and evaluate models for each"
   ]
  },
  {
   "cell_type": "code",
   "execution_count": null,
   "metadata": {},
   "outputs": [],
   "source": [
    "final_params=None\n",
    "r = setup_return_dict(threshold_list=THRESHOLDS_TO_TEST, type_list=EVALUATION_METHODS)"
   ]
  },
  {
   "cell_type": "code",
   "execution_count": null,
   "metadata": {},
   "outputs": [
    {
     "name": "stdout",
     "output_type": "stream",
     "text": [
      "running svm model...\n"
     ]
    }
   ],
   "source": [
    "rdf, models = cycle_through(time_dfs, clf_list=CLF_TO_CREATE, r=r, param_dict=final_params,\n",
    "                    features=list(all_features_retain), y_column=Y_PRED_VAR, \n",
    "                   threshold_list=THRESHOLDS_TO_TEST, type_list=EVALUATION_METHODS)   "
   ]
  },
  {
   "cell_type": "code",
   "execution_count": null,
   "metadata": {},
   "outputs": [],
   "source": [
    "rdf"
   ]
  }
 ],
 "metadata": {
  "kernelspec": {
   "display_name": "Python 3",
   "language": "python",
   "name": "python3"
  },
  "language_info": {
   "codemirror_mode": {
    "name": "ipython",
    "version": 3
   },
   "file_extension": ".py",
   "mimetype": "text/x-python",
   "name": "python",
   "nbconvert_exporter": "python",
   "pygments_lexer": "ipython3",
   "version": "3.6.3"
  }
 },
 "nbformat": 4,
 "nbformat_minor": 2
}
