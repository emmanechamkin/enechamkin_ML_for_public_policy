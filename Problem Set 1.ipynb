{
 "cells": [
  {
   "cell_type": "code",
   "execution_count": 91,
   "metadata": {
    "collapsed": true
   },
   "outputs": [],
   "source": [
    "import pandas as pd\n",
    "import numpy as np\n",
    "\n",
    "# graphics packages\n",
    "import seaborn as sns\n",
    "sns.set(color_codes=True)\n",
    "import matplotlib.pyplot as plt\n",
    "\n",
    "%matplotlib inline"
   ]
  },
  {
   "cell_type": "markdown",
   "metadata": {},
   "source": [
    "## Problem 1\n",
    "\n",
    "### Question 1: You should download and combine data from the open data portal for 2017 about the following 311 requests: Graffiti Removal, Vacant and Abandoned Buildings Reported, Alley Lights Out"
   ]
  },
  {
   "cell_type": "markdown",
   "metadata": {},
   "source": [
    "**Step 1: understanding the data schema** The first thing that I wanted to do was read in the data and identify what fields I was working with. I also knew that I would have to fill nulls in. "
   ]
  },
  {
   "cell_type": "code",
   "execution_count": 92,
   "metadata": {
    "collapsed": true
   },
   "outputs": [],
   "source": [
    "# import csv files\n",
    "graffiti = pd.read_csv('./311_Service_Requests_-_Graffiti_Removal.csv').fillna('unknown')\n",
    "vacant = pd.read_csv('./311_Service_Requests_-_Vacant_and_Abandoned_Buildings_Reported.csv').fillna('unknown')\n",
    "alleys = pd.read_csv('./311_Service_Requests_-_Alley_Lights_Out.csv').fillna('unknown')"
   ]
  },
  {
   "cell_type": "code",
   "execution_count": 93,
   "metadata": {},
   "outputs": [
    {
     "name": "stdout",
     "output_type": "stream",
     "text": [
      "Index(['Creation Date', 'Status', 'Completion Date', 'Service Request Number',\n",
      "       'Type of Service Request', 'What Type of Surface is the Graffiti on?',\n",
      "       'Where is the Graffiti located?', 'Street Address', 'ZIP Code',\n",
      "       'X Coordinate', 'Y Coordinate', 'Ward', 'Police District',\n",
      "       'Community Area', 'SSA', 'Latitude', 'Longitude', 'Location'],\n",
      "      dtype='object')\n",
      "Index(['SERVICE REQUEST TYPE', 'SERVICE REQUEST NUMBER',\n",
      "       'DATE SERVICE REQUEST WAS RECEIVED',\n",
      "       'LOCATION OF BUILDING ON THE LOT (IF GARAGE, CHANGE TYPE CODE TO BGD).',\n",
      "       'IS THE BUILDING DANGEROUS OR HAZARDOUS?',\n",
      "       'IS BUILDING OPEN OR BOARDED?',\n",
      "       'IF THE BUILDING IS OPEN, WHERE IS THE ENTRY POINT?',\n",
      "       'IS THE BUILDING CURRENTLY VACANT OR OCCUPIED?',\n",
      "       'IS THE BUILDING VACANT DUE TO FIRE?',\n",
      "       'ANY PEOPLE USING PROPERTY? (HOMELESS, CHILDEN, GANGS)',\n",
      "       'ADDRESS STREET NUMBER', 'ADDRESS STREET DIRECTION',\n",
      "       'ADDRESS STREET NAME', 'ADDRESS STREET SUFFIX', 'ZIP CODE',\n",
      "       'X COORDINATE', 'Y COORDINATE', 'Ward', 'Police District',\n",
      "       'Community Area', 'LATITUDE', 'LONGITUDE', 'Location'],\n",
      "      dtype='object')\n",
      "Index(['Creation Date', 'Status', 'Completion Date', 'Service Request Number',\n",
      "       'Type of Service Request', 'Street Address', 'ZIP Code', 'X Coordinate',\n",
      "       'Y Coordinate', 'Ward', 'Police District', 'Community Area', 'Latitude',\n",
      "       'Longitude', 'Location'],\n",
      "      dtype='object')\n"
     ]
    }
   ],
   "source": [
    "print(graffiti.columns)\n",
    "print(vacant.columns)\n",
    "print(alleys.columns)"
   ]
  },
  {
   "cell_type": "code",
   "execution_count": 94,
   "metadata": {},
   "outputs": [
    {
     "data": {
      "text/plain": [
       "array(['unknown', 'Building is Open / Unsecure', 'Building is Boarded Up',\n",
       "       'Open', 'Boarded'], dtype=object)"
      ]
     },
     "execution_count": 94,
     "metadata": {},
     "output_type": "execute_result"
    }
   ],
   "source": [
    "# this is a sample exploratory analysis line -- it was to show me how to collapse values\n",
    "vacant['IS BUILDING OPEN OR BOARDED?'].unique()"
   ]
  },
  {
   "cell_type": "markdown",
   "metadata": {},
   "source": [
    "**Step 2: Preliminary data cleaning** I then wanted to clean the data up a little and standardize it so that all of the frames could be easily concatenated into one large dataframe. I did this per dataframe so that I could reduce errors. "
   ]
  },
  {
   "cell_type": "code",
   "execution_count": 103,
   "metadata": {},
   "outputs": [
    {
     "ename": "AttributeError",
     "evalue": "module 'pandas' has no attribute 'as_datetime'",
     "output_type": "error",
     "traceback": [
      "\u001b[0;31m---------------------------------------------------------------------------\u001b[0m",
      "\u001b[0;31mAttributeError\u001b[0m                            Traceback (most recent call last)",
      "\u001b[0;32m<ipython-input-103-34f34541871e>\u001b[0m in \u001b[0;36m<module>\u001b[0;34m()\u001b[0m\n\u001b[1;32m     20\u001b[0m graffiti['subtype'] = graffiti[['What Type of Surface is the Graffiti on?',\n\u001b[1;32m     21\u001b[0m                                 'Where is the Graffiti located?']].apply(lambda x: \"_\".join(x), axis=1)\n\u001b[0;32m---> 22\u001b[0;31m \u001b[0mgraffiti\u001b[0m\u001b[0;34m[\u001b[0m\u001b[0;34m'Completion Date'\u001b[0m\u001b[0;34m]\u001b[0m \u001b[0;34m=\u001b[0m \u001b[0mpd\u001b[0m\u001b[0;34m.\u001b[0m\u001b[0mas_datetime\u001b[0m\u001b[0;34m(\u001b[0m\u001b[0mgraffiti\u001b[0m\u001b[0;34m[\u001b[0m\u001b[0;34m'Completion Date'\u001b[0m\u001b[0;34m]\u001b[0m\u001b[0;34m)\u001b[0m\u001b[0;34m\u001b[0m\u001b[0m\n\u001b[0m\u001b[1;32m     23\u001b[0m \u001b[0malleys\u001b[0m\u001b[0;34m[\u001b[0m\u001b[0;34m'reqtype'\u001b[0m\u001b[0;34m]\u001b[0m \u001b[0;34m=\u001b[0m \u001b[0malleys\u001b[0m\u001b[0;34m[\u001b[0m\u001b[0;34m'Type of Service Request'\u001b[0m\u001b[0;34m]\u001b[0m\u001b[0;34m\u001b[0m\u001b[0m\n\u001b[1;32m     24\u001b[0m \u001b[0malleys\u001b[0m\u001b[0;34m[\u001b[0m\u001b[0;34m'subtype'\u001b[0m\u001b[0;34m]\u001b[0m \u001b[0;34m=\u001b[0m \u001b[0malleys\u001b[0m\u001b[0;34m[\u001b[0m\u001b[0;34m'Type of Service Request'\u001b[0m\u001b[0;34m]\u001b[0m\u001b[0;34m\u001b[0m\u001b[0m\n",
      "\u001b[0;31mAttributeError\u001b[0m: module 'pandas' has no attribute 'as_datetime'"
     ]
    }
   ],
   "source": [
    "# create type and subtype columns for each dataframe\n",
    "vacant['reqtype'] = vacant['SERVICE REQUEST TYPE']\n",
    "\n",
    "# we care more that it is definitely boarded than if it is not\n",
    "vacant['boarded'] = np.where(vacant['IS BUILDING OPEN OR BOARDED?'].str.match('Boarded'), 'boarded', 'not_boarded')\n",
    "\n",
    "# fire, in use vacancy (dangerous and hazardous always na)\n",
    "vacant['fire'] = np.where(vacant['IS THE BUILDING VACANT DUE TO FIRE?'], 'fire_vacancy', 'not_fire')\n",
    "vacant['in_use'] = np.where(vacant['ANY PEOPLE USING PROPERTY? (HOMELESS, CHILDEN, GANGS)'], 'in_use', 'not_in_use')\n",
    "\n",
    "# vacancy subtype\n",
    "vacant['subtype'] = vacant[['boarded', 'fire', 'in_use']].apply(lambda x: \"_\".join(x), axis=1)\n",
    "\n",
    "# create a status indicator\n",
    "vacant['Status'] = np.where(vacant['DATE SERVICE REQUEST WAS RECEIVED'].isnull(), 'Open', 'Completed')\n",
    "vacant['response time'] =  ['Not_applicable'] * vacant['SERVICE REQUEST TYPE'].count()\n",
    "\n",
    "# now we do the same thing for the other two dfs\n",
    "graffiti['reqtype'] = graffiti['Type of Service Request']\n",
    "graffiti['subtype'] = graffiti[['What Type of Surface is the Graffiti on?',\n",
    "                                'Where is the Graffiti located?']].apply(lambda x: \"_\".join(x), axis=1)\n",
    "graffiti['Completion Date'] = pd.as_datetime(graffiti['Completion Date']) \n",
    "alleys['reqtype'] = alleys['Type of Service Request']\n",
    "alleys['subtype'] = alleys['Type of Service Request']"
   ]
  },
  {
   "cell_type": "markdown",
   "metadata": {},
   "source": [
    "**Step 3: Data merging** The final step in ensuring that the dataframes are ready for the merge is selecting the columns to retain and setting new indices. Then, we merge the frames. "
   ]
  },
  {
   "cell_type": "code",
   "execution_count": 96,
   "metadata": {},
   "outputs": [],
   "source": [
    "perm_cols = ['Status', 'Service Request Number', 'Creation Date', \n",
    "             'Completion Date', 'Police District', 'Community Area', 'Latitude',\n",
    "       'Longitude','reqtype', 'subtype']\n",
    "\n",
    "vacant_merge = vacant[[ 'Status', 'SERVICE REQUEST NUMBER', 'DATE SERVICE REQUEST WAS RECEIVED', 'completed date',\n",
    "                       'Police District',\n",
    "                       'Community Area', 'LATITUDE', 'LONGITUDE', 'reqtype','subtype']]\n",
    "vacant_merge.columns = perm_cols\n",
    "vacant_merge.set_index('Service Request Number')\n",
    "\n",
    "alleys_merge = alleys[perm_cols]\n",
    "alleys_merge.set_index('Service Request Number')\n",
    "\n",
    "graffiti_merge = graffiti[perm_cols]\n",
    "graffiti_merge.set_index('Service Request Number')\n",
    "\n",
    "all_311 = pd.concat([vacant_merge, alleys_merge, graffiti_merge]).set_index('Service Request Number')"
   ]
  },
  {
   "cell_type": "markdown",
   "metadata": {},
   "source": [
    "At this point, all of the data is combined into one dataframe, named **all_311**"
   ]
  },
  {
   "cell_type": "markdown",
   "metadata": {},
   "source": [
    "### Question 2: Generate summary statistics for these requests including but not limited to number of requests of each type (and subtype within each of the types above) over time, by neighborhood, response time by the city. Please use a combination of tables and graphs to present these summary stats."
   ]
  },
  {
   "cell_type": "code",
   "execution_count": 97,
   "metadata": {},
   "outputs": [],
   "source": [
    "# police districts crosswalk -- for labelling \n",
    "districts = {\n",
    "    1: \"central\",\n",
    "    2: 'wentworth',\n",
    "    3: 'grand crossing', \n",
    "    4: 'south chicago', \n",
    "    5: 'calumet', \n",
    "    6: 'gresham', \n",
    "    7: 'englewood', \n",
    "    8: 'chicago lawn', \n",
    "    9: 'deering', \n",
    "    10: 'ogden', \n",
    "    11: 'harrison', \n",
    "    12: 'near west', \n",
    "    14: 'shakespeare', \n",
    "    15: 'austin', \n",
    "    16: 'jefferson park', \n",
    "    17: 'albany park', \n",
    "    18: 'near north', \n",
    "    19: 'town hall', \n",
    "    20: 'lincoln',\n",
    "    22: 'morgan park',\n",
    "    24: 'rogers park',\n",
    "    25: 'grand central'\n",
    "}\n",
    "\n",
    "all_311['neighborhood'] = \\\n",
    "    all_311.apply(lambda x: districts.get(x['Police District'], 'Unknown'), axis=1)"
   ]
  },
  {
   "cell_type": "code",
   "execution_count": 98,
   "metadata": {},
   "outputs": [
    {
     "data": {
      "text/plain": [
       "reqtype                    Status         \n",
       "Alley Light Out            Completed          107346\n",
       "                           Completed - Dup     83715\n",
       "                           Open                 4260\n",
       "                           Open - Dup           4269\n",
       "Graffiti Removal           Completed          887889\n",
       "                           Completed - Dup     85923\n",
       "                           Open                  128\n",
       "                           Open - Dup             15\n",
       "Vacant/Abandoned Building  Completed           62125\n",
       "dtype: int64"
      ]
     },
     "execution_count": 98,
     "metadata": {},
     "output_type": "execute_result"
    }
   ],
   "source": [
    "# first, I just want to get a sense of how many of these complaints are open / completed\n",
    "all_311.groupby(['reqtype', 'Status']).size()"
   ]
  },
  {
   "cell_type": "code",
   "execution_count": 99,
   "metadata": {},
   "outputs": [
    {
     "data": {
      "text/plain": [
       "<matplotlib.axes._subplots.AxesSubplot at 0x111021630>"
      ]
     },
     "execution_count": 99,
     "metadata": {},
     "output_type": "execute_result"
    }
   ],
   "source": [
    "# make a heat map by neighborhood for the number of complaints\n",
    "grouped = all_311.groupby(['neighborhood', 'reqtype']).size().unstack().reset_index()\n",
    "\n",
    "sns.barplot(x=\"neighborhood\", y=\"Vacant/Abandoned Building\", ax=ax, data=grouped)"
   ]
  },
  {
   "cell_type": "code",
   "execution_count": 100,
   "metadata": {},
   "outputs": [
    {
     "data": {
      "text/plain": [
       "Index(['neighborhood', 'Alley Light Out', 'Graffiti Removal',\n",
       "       'Vacant/Abandoned Building'],\n",
       "      dtype='object', name='reqtype')"
      ]
     },
     "execution_count": 100,
     "metadata": {},
     "output_type": "execute_result"
    }
   ],
   "source": [
    "grouped.columns"
   ]
  },
  {
   "cell_type": "code",
   "execution_count": 101,
   "metadata": {
    "collapsed": true
   },
   "outputs": [],
   "source": [
    "# i know a fair amount about police -- District 13 was dissolved when the police department was redistricted. This could explain why complaints are low... but in any case...\n"
   ]
  },
  {
   "cell_type": "markdown",
   "metadata": {},
   "source": [
    "Based on these summary statistics, tell me 5 interesting things you learned\n",
    "(about Chicago and the different neighborhoods) using the 311 data"
   ]
  },
  {
   "cell_type": "code",
   "execution_count": 102,
   "metadata": {},
   "outputs": [
    {
     "data": {
      "text/plain": [
       "Index(['SERVICE REQUEST TYPE', 'SERVICE REQUEST NUMBER',\n",
       "       'DATE SERVICE REQUEST WAS RECEIVED',\n",
       "       'LOCATION OF BUILDING ON THE LOT (IF GARAGE, CHANGE TYPE CODE TO BGD).',\n",
       "       'IS THE BUILDING DANGEROUS OR HAZARDOUS?',\n",
       "       'IS BUILDING OPEN OR BOARDED?',\n",
       "       'IF THE BUILDING IS OPEN, WHERE IS THE ENTRY POINT?',\n",
       "       'IS THE BUILDING CURRENTLY VACANT OR OCCUPIED?',\n",
       "       'IS THE BUILDING VACANT DUE TO FIRE?',\n",
       "       'ANY PEOPLE USING PROPERTY? (HOMELESS, CHILDEN, GANGS)',\n",
       "       'ADDRESS STREET NUMBER', 'ADDRESS STREET DIRECTION',\n",
       "       'ADDRESS STREET NAME', 'ADDRESS STREET SUFFIX', 'ZIP CODE',\n",
       "       'X COORDINATE', 'Y COORDINATE', 'Ward', 'Police District',\n",
       "       'Community Area', 'LATITUDE', 'LONGITUDE', 'Location', 'reqtype',\n",
       "       'boarded', 'fire', 'in_use', 'subtype', 'Status', 'completed date'],\n",
       "      dtype='object')"
      ]
     },
     "execution_count": 102,
     "metadata": {},
     "output_type": "execute_result"
    }
   ],
   "source": [
    "vacant.columns"
   ]
  },
  {
   "cell_type": "code",
   "execution_count": null,
   "metadata": {
    "collapsed": true
   },
   "outputs": [],
   "source": []
  },
  {
   "cell_type": "code",
   "execution_count": null,
   "metadata": {
    "collapsed": true
   },
   "outputs": [],
   "source": []
  },
  {
   "cell_type": "code",
   "execution_count": null,
   "metadata": {
    "collapsed": true
   },
   "outputs": [],
   "source": []
  },
  {
   "cell_type": "code",
   "execution_count": null,
   "metadata": {
    "collapsed": true
   },
   "outputs": [],
   "source": []
  }
 ],
 "metadata": {
  "kernelspec": {
   "display_name": "Python 3",
   "language": "python",
   "name": "python3"
  }
 },
 "nbformat": 4,
 "nbformat_minor": 2
}
