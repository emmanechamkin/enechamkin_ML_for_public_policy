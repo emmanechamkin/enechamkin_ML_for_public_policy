{
 "cells": [
  {
   "cell_type": "code",
   "execution_count": 2,
   "metadata": {
    "collapsed": true
   },
   "outputs": [],
   "source": [
    "import pandas as pd\n",
    "import numpy as np\n",
    "\n",
    "# graphics packages\n",
    "import seaborn as sns\n",
    "sns.set(color_codes=True)\n",
    "import matplotlib.pyplot as plt\n",
    "\n",
    "%matplotlib inline"
   ]
  },
  {
   "cell_type": "markdown",
   "metadata": {},
   "source": [
    "## Problem 1\n",
    "\n",
    "### Question 1: You should download and combine data from the open data portal for 2017 about the following 311 requests: Graffiti Removal, Vacant and Abandoned Buildings Reported, Alley Lights Out"
   ]
  },
  {
   "cell_type": "markdown",
   "metadata": {},
   "source": [
    "**Step 1: understanding the data schema** The first thing that I wanted to do was read in the data and identify what fields I was working with. I also knew that I would have to fill nulls in. "
   ]
  },
  {
   "cell_type": "code",
   "execution_count": 3,
   "metadata": {
    "collapsed": true
   },
   "outputs": [],
   "source": [
    "# import csv files\n",
    "graffiti = pd.read_csv('./311_Service_Requests_-_Graffiti_Removal.csv').fillna('unknown')\n",
    "vacant = pd.read_csv('./311_Service_Requests_-_Vacant_and_Abandoned_Buildings_Reported.csv').fillna('unknown')\n",
    "alleys = pd.read_csv('./311_Service_Requests_-_Alley_Lights_Out.csv').fillna('unknown')"
   ]
  },
  {
   "cell_type": "code",
   "execution_count": 4,
   "metadata": {},
   "outputs": [
    {
     "name": "stdout",
     "output_type": "stream",
     "text": [
      "Index(['Creation Date', 'Status', 'Completion Date', 'Service Request Number',\n",
      "       'Type of Service Request', 'What Type of Surface is the Graffiti on?',\n",
      "       'Where is the Graffiti located?', 'Street Address', 'ZIP Code',\n",
      "       'X Coordinate', 'Y Coordinate', 'Ward', 'Police District',\n",
      "       'Community Area', 'SSA', 'Latitude', 'Longitude', 'Location'],\n",
      "      dtype='object')\n",
      "Index(['SERVICE REQUEST TYPE', 'SERVICE REQUEST NUMBER',\n",
      "       'DATE SERVICE REQUEST WAS RECEIVED',\n",
      "       'LOCATION OF BUILDING ON THE LOT (IF GARAGE, CHANGE TYPE CODE TO BGD).',\n",
      "       'IS THE BUILDING DANGEROUS OR HAZARDOUS?',\n",
      "       'IS BUILDING OPEN OR BOARDED?',\n",
      "       'IF THE BUILDING IS OPEN, WHERE IS THE ENTRY POINT?',\n",
      "       'IS THE BUILDING CURRENTLY VACANT OR OCCUPIED?',\n",
      "       'IS THE BUILDING VACANT DUE TO FIRE?',\n",
      "       'ANY PEOPLE USING PROPERTY? (HOMELESS, CHILDEN, GANGS)',\n",
      "       'ADDRESS STREET NUMBER', 'ADDRESS STREET DIRECTION',\n",
      "       'ADDRESS STREET NAME', 'ADDRESS STREET SUFFIX', 'ZIP CODE',\n",
      "       'X COORDINATE', 'Y COORDINATE', 'Ward', 'Police District',\n",
      "       'Community Area', 'LATITUDE', 'LONGITUDE', 'Location'],\n",
      "      dtype='object')\n",
      "Index(['Creation Date', 'Status', 'Completion Date', 'Service Request Number',\n",
      "       'Type of Service Request', 'Street Address', 'ZIP Code', 'X Coordinate',\n",
      "       'Y Coordinate', 'Ward', 'Police District', 'Community Area', 'Latitude',\n",
      "       'Longitude', 'Location'],\n",
      "      dtype='object')\n"
     ]
    }
   ],
   "source": [
    "print(graffiti.columns)\n",
    "print(vacant.columns)\n",
    "print(alleys.columns)"
   ]
  },
  {
   "cell_type": "code",
   "execution_count": 5,
   "metadata": {},
   "outputs": [
    {
     "data": {
      "text/plain": [
       "array(['unknown', 'Building is Open / Unsecure', 'Building is Boarded Up',\n",
       "       'Open', 'Boarded'], dtype=object)"
      ]
     },
     "execution_count": 5,
     "metadata": {},
     "output_type": "execute_result"
    }
   ],
   "source": [
    "# this is a sample exploratory analysis line -- it was to show me how to collapse values\n",
    "vacant['IS BUILDING OPEN OR BOARDED?'].unique()"
   ]
  },
  {
   "cell_type": "markdown",
   "metadata": {},
   "source": [
    "**Step 2: Preliminary data cleaning** I then wanted to clean the data up a little and standardize it so that all of the frames could be easily concatenated into one large dataframe. I did this per dataframe so that I could reduce errors. "
   ]
  },
  {
   "cell_type": "code",
   "execution_count": 6,
   "metadata": {
    "collapsed": true
   },
   "outputs": [],
   "source": [
    "# create type and subtype columns for each dataframe\n",
    "vacant['reqtype'] = vacant['SERVICE REQUEST TYPE']\n",
    "\n",
    "# we care more that it is definitely boarded than if it is not\n",
    "vacant['boarded'] = np.where(vacant['IS BUILDING OPEN OR BOARDED?'].str.match('Boarded'), 'boarded', 'not_boarded')\n",
    "\n",
    "# fire, in use vacancy (dangerous and hazardous always na)\n",
    "vacant['fire'] = np.where(vacant['IS THE BUILDING VACANT DUE TO FIRE?'], 'fire_vacancy', 'not_fire')\n",
    "vacant['in_use'] = np.where(vacant['ANY PEOPLE USING PROPERTY? (HOMELESS, CHILDEN, GANGS)'], 'in_use', 'not_in_use')\n",
    "\n",
    "# vacancy subtype\n",
    "vacant['subtype'] = vacant[['boarded', 'fire', 'in_use']].apply(lambda x: \"_\".join(x), axis=1)\n",
    "\n",
    "# create a status indicator\n",
    "vacant['Status'] = np.where(vacant['DATE SERVICE REQUEST WAS RECEIVED'].isnull(), 'Open', 'Completed')\n",
    "vacant['completed date'] =  ['Not_applicable'] * vacant['SERVICE REQUEST TYPE'].count()\n",
    "\n",
    "# now we do the same thing for the other two dfs\n",
    "graffiti['reqtype'] = graffiti['Type of Service Request']\n",
    "graffiti['subtype'] = graffiti[['What Type of Surface is the Graffiti on?',\n",
    "                                'Where is the Graffiti located?']].apply(lambda x: \"_\".join(x), axis=1)\n",
    "alleys['reqtype'] = alleys['Type of Service Request']\n",
    "alleys['subtype'] = alleys['Type of Service Request']"
   ]
  },
  {
   "cell_type": "markdown",
   "metadata": {},
   "source": [
    "**Step 3: Data merging** The final step in ensuring that the dataframes are ready for the merge is selecting the columns to retain and setting new indices. Then, we merge the frames. "
   ]
  },
  {
   "cell_type": "code",
   "execution_count": 7,
   "metadata": {
    "collapsed": true
   },
   "outputs": [],
   "source": [
    "perm_cols = ['Status', 'Service Request Number', 'Creation Date', \n",
    "             'Completion Date', 'Police District', 'Community Area', 'Latitude',\n",
    "             'Longitude','reqtype', 'subtype']\n",
    "\n",
    "vacant_merge = vacant[[ 'Status', 'SERVICE REQUEST NUMBER', 'DATE SERVICE REQUEST WAS RECEIVED', 'completed date',\n",
    "                       'Police District',\n",
    "                       'Community Area', 'LATITUDE', 'LONGITUDE', 'reqtype','subtype']]\n",
    "vacant_merge.columns = perm_cols\n",
    "vacant_merge.set_index('Service Request Number')\n",
    "\n",
    "alleys_merge = alleys[perm_cols]\n",
    "alleys_merge.set_index('Service Request Number')\n",
    "\n",
    "graffiti_merge = graffiti[perm_cols]\n",
    "graffiti_merge.set_index('Service Request Number')\n",
    "\n",
    "all_311 = pd.concat([vacant_merge, alleys_merge, graffiti_merge]).set_index('Service Request Number')"
   ]
  },
  {
   "cell_type": "markdown",
   "metadata": {},
   "source": [
    "At this point, all of the data is combined into one dataframe, named **all_311**"
   ]
  },
  {
   "cell_type": "markdown",
   "metadata": {},
   "source": [
    "### Question 2: Generate summary statistics for these requests including but not limited to number of requests of each type (and subtype within each of the types above) over time, by neighborhood, response time by the city. Please use a combination of tables and graphs to present these summary stats."
   ]
  },
  {
   "cell_type": "code",
   "execution_count": 8,
   "metadata": {
    "collapsed": true
   },
   "outputs": [],
   "source": [
    "# police districts crosswalk -- for labelling \n",
    "districts = {\n",
    "    1: \"ctr\",\n",
    "    2: 'wworth',\n",
    "    3: 'gr cross', \n",
    "    4: 's chi', \n",
    "    5: 'cal', \n",
    "    6: 'gresham', \n",
    "    7: 'englwd', \n",
    "    8: 'chi lawn', \n",
    "    9: 'drng', \n",
    "    10: 'ogdn', \n",
    "    11: 'hrrsn', \n",
    "    12: 'nr w', \n",
    "    14: 'shkspr', \n",
    "    15: 'austin', \n",
    "    16: 'jeff prk', \n",
    "    17: 'alb prk', \n",
    "    18: 'n nrth', \n",
    "    19: 'twn hll', \n",
    "    20: 'lncln',\n",
    "    22: 'mgn prk',\n",
    "    24: 'rgrs prk',\n",
    "    25: 'grnd ctrl'\n",
    "}\n",
    "\n",
    "all_311['neighborhood'] = \\\n",
    "    all_311.apply(lambda x: districts.get(x['Police District'], 'Unknown'), axis=1)"
   ]
  },
  {
   "cell_type": "code",
   "execution_count": 9,
   "metadata": {},
   "outputs": [
    {
     "data": {
      "text/plain": [
       "reqtype                    Status         \n",
       "Alley Light Out            Completed          107346\n",
       "                           Completed - Dup     83715\n",
       "                           Open                 4260\n",
       "                           Open - Dup           4269\n",
       "Graffiti Removal           Completed          887889\n",
       "                           Completed - Dup     85923\n",
       "                           Open                  128\n",
       "                           Open - Dup             15\n",
       "Vacant/Abandoned Building  Completed           62125\n",
       "dtype: int64"
      ]
     },
     "execution_count": 9,
     "metadata": {},
     "output_type": "execute_result"
    }
   ],
   "source": [
    "# first, I just want to get a sense of how many of these complaints are open / completed\n",
    "all_311.groupby(['reqtype', 'Status']).size()"
   ]
  },
  {
   "cell_type": "code",
   "execution_count": 10,
   "metadata": {},
   "outputs": [
    {
     "data": {
      "text/plain": [
       "<matplotlib.axes._subplots.AxesSubplot at 0x1a33073240>"
      ]
     },
     "execution_count": 10,
     "metadata": {},
     "output_type": "execute_result"
    },
    {
     "data": {
      "image/png": "[encoded data removed]",
      "text/plain": [
       "<matplotlib.figure.Figure at 0x1a2a243a90>"
      ]
     },
     "metadata": {},
     "output_type": "display_data"
    }
   ],
   "source": [
    "# make a bar chart by neighborhood for the number of complaints\n",
    "grouped = all_311.groupby(['neighborhood', 'reqtype']).size().unstack().reset_index()\n",
    "\n",
    "plt.subplots(figsize=(20,5))\n",
    "sns.barplot(x=\"neighborhood\", y=\"Vacant/Abandoned Building\", data=grouped, color='lightblue')"
   ]
  },
  {
   "cell_type": "code",
   "execution_count": 11,
   "metadata": {},
   "outputs": [
    {
     "data": {
      "text/plain": [
       "<matplotlib.axes._subplots.AxesSubplot at 0x1a2a156e10>"
      ]
     },
     "execution_count": 11,
     "metadata": {},
     "output_type": "execute_result"
    },
    {
     "data": {
      "image/png": "[encoded data removed]",
      "text/plain": [
       "<matplotlib.figure.Figure at 0x1a2a2439b0>"
      ]
     },
     "metadata": {},
     "output_type": "display_data"
    }
   ],
   "source": [
    "plt.subplots(figsize=(20,5))\n",
    "sns.barplot(x=\"neighborhood\", y=\"Graffiti Removal\", data=grouped, color='lightblue')"
   ]
  },
  {
   "cell_type": "code",
   "execution_count": 12,
   "metadata": {},
   "outputs": [
    {
     "data": {
      "text/plain": [
       "<matplotlib.axes._subplots.AxesSubplot at 0x1a2a598208>"
      ]
     },
     "execution_count": 12,
     "metadata": {},
     "output_type": "execute_result"
    },
    {
     "data": {
      "image/png": "[encoded data removed]",
      "text/plain": [
       "<matplotlib.figure.Figure at 0x1a2a59d048>"
      ]
     },
     "metadata": {},
     "output_type": "display_data"
    }
   ],
   "source": [
    "plt.subplots(figsize=(20,5))\n",
    "sns.barplot(x=\"neighborhood\", y=\"Alley Light Out\", data=grouped, color='lightblue')"
   ]
  },
  {
   "cell_type": "code",
   "execution_count": 13,
   "metadata": {},
   "outputs": [
    {
     "data": {
      "text/plain": [
       "<matplotlib.axes._subplots.AxesSubplot at 0x1a2c9bccc0>"
      ]
     },
     "execution_count": 13,
     "metadata": {},
     "output_type": "execute_result"
    },
    {
     "data": {
      "image/png": "[encoded data removed]",
      "text/plain": [
       "<matplotlib.figure.Figure at 0x1a2c9c7898>"
      ]
     },
     "metadata": {},
     "output_type": "display_data"
    }
   ],
   "source": [
    "plt.subplots(figsize=(20,5))\n",
    "grouped = all_311.groupby(['neighborhood', 'reqtype', 'Status']).size().unstack().reset_index()\n",
    "grouped['total'] = grouped['Open'] + grouped['Completed']\n",
    "sns.barplot(x='neighborhood', y='total', hue='reqtype', data=grouped)"
   ]
  },
  {
   "cell_type": "code",
   "execution_count": 14,
   "metadata": {},
   "outputs": [
    {
     "name": "stderr",
     "output_type": "stream",
     "text": [
      "/Users/emmanechamkin/anaconda3/lib/python3.6/site-packages/ipykernel_launcher.py:2: FutureWarning: to_datetime is deprecated. Use pd.to_datetime(...)\n",
      "  \n"
     ]
    }
   ],
   "source": [
    "grouped = all_311.groupby(['Creation Date', 'reqtype']).size().unstack().reset_index().fillna(0).set_index('Creation Date')\n",
    "grouped.index = grouped.index.to_datetime()\n",
    "grouped['date'] = grouped.index"
   ]
  },
  {
   "cell_type": "code",
   "execution_count": 15,
   "metadata": {},
   "outputs": [
    {
     "data": {
      "text/plain": [
       "<matplotlib.axes._subplots.AxesSubplot at 0x1a3427d358>"
      ]
     },
     "execution_count": 15,
     "metadata": {},
     "output_type": "execute_result"
    },
    {
     "data": {
      "image/png": "[encoded data removed]",
      "text/plain": [
       "<matplotlib.figure.Figure at 0x1a2a5a7eb8>"
      ]
     },
     "metadata": {},
     "output_type": "display_data"
    }
   ],
   "source": [
    "plt.subplots(figsize=(20,5))\n",
    "sns.barplot(x='date', y='Graffiti Removal', data=grouped)"
   ]
  },
  {
   "cell_type": "code",
   "execution_count": 16,
   "metadata": {},
   "outputs": [
    {
     "data": {
      "text/plain": [
       "reqtype                    subtype                              Status         \n",
       "Alley Light Out            Alley Light Out                      Completed          107346\n",
       "                                                                Completed - Dup     83715\n",
       "                                                                Open                 4260\n",
       "                                                                Open - Dup           4269\n",
       "Graffiti Removal           Aluminum Siding_Alley                Completed            1992\n",
       "                                                                Completed - Dup       463\n",
       "                                                                Open                    1\n",
       "                           Aluminum Siding_Bench                Completed               5\n",
       "                           Aluminum Siding_Door                 Completed             392\n",
       "                                                                Completed - Dup        47\n",
       "                           Aluminum Siding_Dumpster             Completed              26\n",
       "                                                                Completed - Dup         2\n",
       "                           Aluminum Siding_Express Way Job      Completed               9\n",
       "                                                                Completed - Dup         1\n",
       "                           Aluminum Siding_Fence                Completed             114\n",
       "                                                                Completed - Dup        18\n",
       "                           Aluminum Siding_Front                Completed            2129\n",
       "                                                                Completed - Dup       728\n",
       "                                                                Open                    2\n",
       "                           Aluminum Siding_Garage               Completed           28214\n",
       "                                                                Completed - Dup      4572\n",
       "                                                                Open                    2\n",
       "                           Aluminum Siding_Garbage Cart         Completed              57\n",
       "                                                                Completed - Dup         4\n",
       "                           Aluminum Siding_Mail Box             Completed              32\n",
       "                                                                Completed - Dup        12\n",
       "                           Aluminum Siding_Newspaper Box        Completed               5\n",
       "                                                                Completed - Dup         1\n",
       "                           Aluminum Siding_Overpass             Completed               1\n",
       "                           Aluminum Siding_Pole                 Completed             126\n",
       "                                                                                    ...  \n",
       "                           unknown_Front                        Completed - Dup         8\n",
       "                           unknown_Garage                       Completed              36\n",
       "                                                                Completed - Dup         4\n",
       "                           unknown_Garbage Cart                 Completed               2\n",
       "                           unknown_Hydrant                      Completed               1\n",
       "                           unknown_Mail Box                     Completed               6\n",
       "                           unknown_Newspaper Box                Completed               2\n",
       "                           unknown_Overpass                     Completed               1\n",
       "                           unknown_Pole                         Completed              42\n",
       "                           unknown_Rear                         Completed              44\n",
       "                           unknown_Side                         Completed              55\n",
       "                                                                Completed - Dup         5\n",
       "                           unknown_Sign                         Completed              15\n",
       "                                                                Completed - Dup         1\n",
       "                           unknown_Traffic Control Box          Completed              12\n",
       "                                                                Completed - Dup         1\n",
       "                           unknown_Viaduct                      Completed               3\n",
       "                           unknown_Window                       Completed               1\n",
       "                           unknown_unknown                      Completed            2750\n",
       "                                                                Completed - Dup      1528\n",
       "                                                                Open                    1\n",
       "                                                                Open - Dup              1\n",
       "Vacant/Abandoned Building  boarded_fire_vacancy_in_use          Completed             217\n",
       "                           boarded_fire_vacancy_not_in_use      Completed             340\n",
       "                           boarded_not_fire_in_use              Completed            2067\n",
       "                           boarded_not_fire_not_in_use          Completed            4253\n",
       "                           not_boarded_fire_vacancy_in_use      Completed           10086\n",
       "                           not_boarded_fire_vacancy_not_in_use  Completed            2367\n",
       "                           not_boarded_not_fire_in_use          Completed           21327\n",
       "                           not_boarded_not_fire_not_in_use      Completed           21468\n",
       "Length: 765, dtype: int64"
      ]
     },
     "execution_count": 16,
     "metadata": {},
     "output_type": "execute_result"
    }
   ],
   "source": [
    "all_311.groupby(['reqtype', 'subtype','Status']).size()"
   ]
  },
  {
   "cell_type": "markdown",
   "metadata": {
    "collapsed": true
   },
   "source": [
    "Based on these summary statistics, tell me 5 interesting things you learned\n",
    "(about Chicago and the different neighborhoods) using the 311 data\n",
    "\n",
    "1. Graffiti is -- by a wide margin, the most common 311 call of the three noted. \n",
    "2. There is significant variance among neighborhoods in 311 calls. \n",
    "3. Vacancy is the least common reported crime, and almost half of vacant homes are in use. \n",
    "4. 311 calls are decreasing on average, over time (but not super significantly). \n",
    "5. [Add a response time thing here]"
   ]
  },
  {
   "cell_type": "markdown",
   "metadata": {
    "collapsed": true
   },
   "source": [
    "## Problem 2\n",
    "\n",
    "### All of the service requests you just analyzed have address and lat/long fields. The task is to augment that data with American Community Survey data. For each address, use one of the census APIs to get some additional data (at least 3-4 useful variables) about the block where the 311 request came from"
   ]
  },
  {
   "cell_type": "code",
   "execution_count": 203,
   "metadata": {},
   "outputs": [
    {
     "data": {
      "text/plain": [
       "Index(['Status', 'Creation Date', 'Completion Date', 'Police District',\n",
       "       'Community Area', 'Latitude', 'Longitude', 'reqtype', 'subtype',\n",
       "       'neighborhood'],\n",
       "      dtype='object')"
      ]
     },
     "execution_count": 203,
     "metadata": {},
     "output_type": "execute_result"
    }
   ],
   "source": [
    "acs_tracts = pd.read_csv()"
   ]
  },
  {
   "cell_type": "code",
   "execution_count": null,
   "metadata": {
    "collapsed": true
   },
   "outputs": [],
   "source": []
  }
 ],
 "metadata": {
  "kernelspec": {
   "display_name": "Python 3",
   "language": "python",
   "name": "python3"
  },
  "language_info": {
   "codemirror_mode": {
    "name": "ipython",
    "version": 3
   },
   "file_extension": ".py",
   "mimetype": "text/x-python",
   "name": "python",
   "nbconvert_exporter": "python",
   "pygments_lexer": "ipython3",
   "version": "3.6.3"
  }
 },
 "nbformat": 4,
 "nbformat_minor": 2
}
